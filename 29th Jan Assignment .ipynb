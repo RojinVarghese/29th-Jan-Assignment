{
 "cells": [
  {
   "cell_type": "markdown",
   "id": "bf54a60f-5b22-4502-af98-217316393bbf",
   "metadata": {},
   "source": [
    "1) Who developed python programming Language ?\n"
   ]
  },
  {
   "cell_type": "markdown",
   "id": "aa6e0d31-889e-4af5-9f3a-a108b818ba91",
   "metadata": {},
   "source": [
    "Ans : Python programming language was developed by Guido van Rossum."
   ]
  },
  {
   "cell_type": "markdown",
   "id": "4c3e2f52-dde3-4f21-8b49-08eece6a3bb1",
   "metadata": {},
   "source": [
    "2) Which type of programming does Python Support ?"
   ]
  },
  {
   "cell_type": "markdown",
   "id": "3f45d1a5-22c5-4cf3-aafb-cc8f5fe9fb4b",
   "metadata": {},
   "source": [
    "Ans : Python supports multiple programming paradigms including procedural, object-oriented, functional and aspect-oriented programming styles."
   ]
  },
  {
   "cell_type": "markdown",
   "id": "51ae993e-cb97-4f08-88c9-b4ac8d5e77dc",
   "metadata": {},
   "source": [
    "3) Is Python case sensitive when dealing with Identifiers ?"
   ]
  },
  {
   "cell_type": "markdown",
   "id": "12914b1c-933e-47c7-8d53-d6c82fcea093",
   "metadata": {},
   "source": [
    "Ans : Yes, Python is case sensitive when dealing with identifiers, such as variable names, function names, and class names. For example, a variable named \"counter\" is different from another variable named \"Counter\"."
   ]
  },
  {
   "cell_type": "markdown",
   "id": "1b47c2bd-4ba7-4e2a-a20f-097f05fbd05a",
   "metadata": {},
   "source": [
    "4) What is the correct extension of the python file ?"
   ]
  },
  {
   "cell_type": "markdown",
   "id": "540dc9c6-b5af-47ae-83ba-f8270c3d3fe2",
   "metadata": {},
   "source": [
    "Ans : The correct extension for a Python file is \".py\". This is the standard file extension for Python source code."
   ]
  },
  {
   "cell_type": "markdown",
   "id": "8ce3df20-6eea-40de-ab5b-0f7bdaecd0ae",
   "metadata": {},
   "source": [
    "5) Is python code compiled or interpreted ?"
   ]
  },
  {
   "cell_type": "markdown",
   "id": "855391a7-4c31-4763-9066-549c698f06b9",
   "metadata": {},
   "source": [
    "Ans : Python code is interpreted, not compiled. This means that the code is executed line by line, rather than being translated into machine code before execution."
   ]
  },
  {
   "cell_type": "markdown",
   "id": "6c21e770-d89c-46e3-8250-3f2e6f0d1492",
   "metadata": {},
   "source": [
    "6) Name a few blocks of code used to define in Python Language ?"
   ]
  },
  {
   "cell_type": "markdown",
   "id": "457880c2-761c-4a64-ad27-b681d41a3bac",
   "metadata": {},
   "source": [
    "Ans : In Python, blocks of code are defined using indentation. Some common blocks of code include:\n",
    "\n",
    "Functions : defined using the \"def\" keyword\n",
    "\n",
    "Classes : defined using the \"class\" keyword\n",
    "\n",
    "If-else statements : defined using the \"if\" and \"else\" keywords\n",
    "\n",
    "For loops : defined using the \"for\" keyword\n",
    "\n",
    "While loops : defined using the \"while\" keyword\n",
    "\n",
    "Note : Indentation is significant in Python and is used to delimit blocks of code."
   ]
  },
  {
   "cell_type": "markdown",
   "id": "646692a1-2349-4986-84d0-adf1ec79eeca",
   "metadata": {},
   "source": [
    "7) State a character used to give single - line comments in Python ?"
   ]
  },
  {
   "cell_type": "markdown",
   "id": "3a0e8ec6-66da-47a2-b9d8-54c5054a8c34",
   "metadata": {},
   "source": [
    "Ans : In Python, a single-line comment can be created using the hash symbol (#). Everything after the hash symbol on a line is ignored by the Python interpreter, making it a comment. \n",
    "\n",
    "For example:  # This is a single-line comment in Python\n"
   ]
  },
  {
   "cell_type": "markdown",
   "id": "5bbf10ee-46ef-45bb-9da4-a1a0ce9d6993",
   "metadata": {},
   "source": [
    "8) Mention functions which can help us to find the version of Python that we are  currently Working On?"
   ]
  },
  {
   "cell_type": "markdown",
   "id": "0de6446e-5e45-4977-8790-40d842fcfa56",
   "metadata": {},
   "source": [
    "Ans : You can use the following methods to find the version of Python that you are currently working with:\n",
    "\n",
    "sys.version: This method returns a string that contains information about the Python version, build number, and compiler used.\n",
    "\n",
    "sys.version_info: This method returns a named tuple that contains information about the Python version. You can access the individual components of the version number using attributes like major, minor, micro, etc.\n",
    "\n",
    "platform.python_version(): This method returns a string that contains the version of Python that you are currently using.\n",
    "\n",
    "For example : \n",
    "\n",
    "import sys\n",
    "\n",
    "print(sys.version)\n",
    "\n",
    "print(sys.version_info)\n",
    "\n",
    "import platform\n",
    "\n",
    "print(platform.python_version())\n"
   ]
  },
  {
   "cell_type": "markdown",
   "id": "c6a138b6-881c-4f75-b3af-2c35f369c295",
   "metadata": {},
   "source": [
    "9) Python Supports the Creation Of anonymous function at runtime , Using a construct called ___________"
   ]
  },
  {
   "cell_type": "markdown",
   "id": "300e4074-e542-4f0c-b6dc-8c20243d7b20",
   "metadata": {},
   "source": [
    "Ans : Lambda"
   ]
  },
  {
   "cell_type": "markdown",
   "id": "01fb090f-49d0-4ff2-bc49-47321ee18576",
   "metadata": {},
   "source": [
    "10) What does pip stand for Python ?"
   ]
  },
  {
   "cell_type": "markdown",
   "id": "49ad12a8-6910-411b-940a-5e4041c012fa",
   "metadata": {},
   "source": [
    "Ans : \"pip\" stands for \"Pip Installs Packages\". It is a package management system used to install and manage packages and libraries for Python. With pip, you can install packages from the Python Package Index (PyPI) or from other sources, upgrade or downgrade packages, and easily manage dependencies between packages. Pip makes it easier to manage and distribute Python packages, which makes it an essential tool for Python development."
   ]
  },
  {
   "cell_type": "markdown",
   "id": "a3f900b5-b087-4cf8-ae03-e73c9c6ce91e",
   "metadata": {},
   "source": [
    "11) Mention a few Built - In Function in Python ?"
   ]
  },
  {
   "cell_type": "markdown",
   "id": "56ceb937-d1d0-48d1-9ed8-d6df481abc23",
   "metadata": {},
   "source": [
    "Ans : Python has many built-in functions that perform various operations. Here are a few of the most commonly used ones:\n",
    "\n",
    "\n",
    "1) print(): This function is used to display output on the screen.\n",
    "\n",
    "\n",
    "2) len(): This function returns the number of items in a sequence or the number of characters in a string.\n",
    "\n",
    "\n",
    "3) type(): This function returns the type of an object.\n",
    "\n",
    "\n",
    "4) str(): This function returns a string representation of an object.\n",
    "\n",
    "\n",
    "5) int(): This function converts a string or a floating-point number to an integer.\n",
    "\n",
    "\n",
    "6) float(): This function converts a string or an integer to a floating-point number.\n",
    "\n",
    "\n",
    "7) sum(): This function adds up all the elements of an iterable.\n",
    "\n",
    "\n",
    "8) min(): This function returns the smallest element of an iterable.\n",
    "\n",
    "\n",
    "9) max(): This function returns the largest element of an iterable.\n",
    "\n",
    "\n",
    "10) sorted(): This function returns a sorted list of elements from an iterable.\n",
    "\n",
    "\n",
    "These are just a few examples of the built-in functions in Python. There are many more available for use, depending on your specific needs."
   ]
  },
  {
   "cell_type": "markdown",
   "id": "e49462c4-d49a-45a0-bc2a-b7aac0b10035",
   "metadata": {},
   "source": [
    "12) What is the maximum possible length of an identifier in Python ?"
   ]
  },
  {
   "cell_type": "markdown",
   "id": "f6bb6de2-d4be-450c-9fd3-ed0ed80d96eb",
   "metadata": {},
   "source": [
    "Ans : In Python, there is no explicit limit to the length of an identifier (such as a variable name, function name, or class name). However, the practical limit to the length of an identifier is determined by the amount of memory available to store the identifier and the implementation of the Python interpreter.\n",
    "\n",
    "In general, it is recommended to keep identifiers short and descriptive, to improve code readability and maintainability."
   ]
  },
  {
   "cell_type": "markdown",
   "id": "ad7e39aa-ed3b-4452-8fb0-d73bca49a4bc",
   "metadata": {},
   "source": [
    "13) What are the benefits of using python ?"
   ]
  },
  {
   "cell_type": "markdown",
   "id": "6ff8403c-a2bf-4f23-a192-62861e5ea9bd",
   "metadata": {},
   "source": [
    "Ans : Python is a versatile and popular programming language with many benefits, including:\n",
    "\n",
    "\n",
    "1) Easy to learn and use : Python has a simple and straightforward syntax that is easy to learn and understand, even for people who are new to programming.\n",
    "\n",
    "\n",
    "2) Versatile : Python can be used for a wide range of tasks, including web development, scientific computing, data analysis, artificial intelligence, and more.\n",
    "\n",
    "\n",
    "3) Large and active community : Python has a large and active community of users and developers, making it easier to find help and resources online when you need them.\n",
    "\n",
    "\n",
    "4) Large library : Python has a large standard library that includes many modules and tools for common programming tasks, so you can get more done with less code.\n",
    "\n",
    "\n",
    "5) Cross-platform : Python can run on any operating system, including Windows, Mac, and Linux, making it a good choice for projects that need to be developed on multiple platforms.\n",
    "\n",
    "\n",
    "\n",
    "6) Dynamic typing : Python uses dynamic typing, which allows you to write more flexible and concise code, since you don't have to specify data types when declaring variables.\n",
    "\n",
    "\n",
    "7) Readable code : Python's syntax is designed to promote readability, which makes it easier to write and maintain code over time.\n",
    "\n",
    "\n",
    "These are just a few of the many benefits of using Python. Overall, Python is a powerful and flexible language that is well suited for a wide range of tasks, making it a popular choice for developers around the world."
   ]
  },
  {
   "cell_type": "markdown",
   "id": "60de40ef-21f1-4894-86f9-d7b4dacce086",
   "metadata": {},
   "source": [
    "14 ) How is memory managed in Python ?"
   ]
  },
  {
   "cell_type": "markdown",
   "id": "e733ef48-2259-4add-b199-f1b1c1ac01aa",
   "metadata": {},
   "source": [
    "Ans : In Python, memory management is automatic and handled by the Python memory manager. The memory manager is responsible for allocating memory for new objects, deallocating memory when objects are no longer needed, and managing the size of the memory pool.\n",
    "\n",
    "Python uses a reference counting system to keep track of the number of references to an object. When the reference count for an object drops to zero, the memory manager automatically frees the memory associated with that object.\n",
    "\n",
    "In addition to reference counting, Python also uses a garbage collector to periodically search for objects that are no longer needed and reclaim their memory. The garbage collector runs in the background and automatically frees memory that is no longer being used.\n",
    "\n",
    "This automatic memory management makes it easier to write Python programs, as you don't have to worry about freeing memory manually. It also helps to prevent memory leaks, as memory is automatically freed when it is no longer needed.\n",
    "\n",
    "Overall, Python's memory management system is designed to be simple, efficient, and transparent, making it easier to write and maintain Python programs."
   ]
  },
  {
   "cell_type": "markdown",
   "id": "e5de9658-914f-423f-b4e2-42c91796d61b",
   "metadata": {},
   "source": [
    "15) How to install Python on window and Set path Variables ?"
   ]
  },
  {
   "cell_type": "markdown",
   "id": "38993299-f9b2-417d-87bd-7c3b0f0aeb98",
   "metadata": {},
   "source": [
    "Ans : To install Python on Windows and set the path variables, follow these steps:\n",
    "\n",
    "\n",
    "1) Download the Python installation package from the official Python website (https://www.python.org/downloads/).\n",
    "\n",
    "\n",
    "2) Run the installation package and follow the on-screen instructions to complete the installation. During the installation, you will be prompted to choose an installation location. Make sure to remember the installation location, as you will need it later to set the path variables.\n",
    "\n",
    "\n",
    "3) Open the Start menu and search for \"Environment Variables\". Select \"Edit the system environment variables\".\n",
    "\n",
    "\n",
    "4) In the System Properties window that opens, select the \"Environment Variables\" button.\n",
    "\n",
    "\n",
    "5) Scroll down the System Variables list and find the \"Path\" variable. Select the \"Path\" variable and click the \"Edit\" button.\n",
    "\n",
    "\n",
    "6) In the Edit Environment Variable window, click the \"New\" button and enter the installation location for Python (for example, C:\\Python38).\n",
    "\n",
    "\n",
    "7) Close the System Properties window and open a new Command Prompt window.\n",
    "\n",
    "\n",
    "8) In the Command Prompt window, type \"python\" and press Enter. If the installation was successful, you should see the Python interactive prompt, which indicates that Python is installed and the path variables are set correctly.\n",
    "\n",
    "\n",
    "These steps should allow you to install Python on Windows and set the path variables so that you can run Python from the Command Prompt."
   ]
  },
  {
   "cell_type": "markdown",
   "id": "59decda5-91d2-4212-ab40-c7fc2c11b034",
   "metadata": {},
   "source": [
    "16) Is Indentation required in Python ?"
   ]
  },
  {
   "cell_type": "markdown",
   "id": "706ea076-747c-42a4-85b6-eb41ee1612ac",
   "metadata": {},
   "source": [
    "Ans : Yes, indentation is required in Python. Indentation is used to define blocks of code, such as the body of a function, loop, or conditional statement. In Python, the level of indentation is significant and determines the scope of the code within a block.\n",
    "\n",
    "\n",
    "For example, consider the following code:\n",
    "\n",
    "if True:\n",
    "\n",
    "    print(\"This is a test\")\n",
    "    \n",
    "    print(\"This is another test\")\n",
    "    \n",
    "\n",
    "In this code, the two print statements are indented, which indicates that they are part of the same code block. If the indentation were not present, the code would not be valid and would raise an error.\n",
    "\n",
    "\n",
    "In Python, the recommended indentation level is four spaces, but you can use any number of spaces as long as the indentation is consistent within a block of code.\n",
    "\n",
    "\n",
    "In summary, indentation is a key aspect of the Python language and is required for all code blocks. It helps to make code more readable and maintainable, and is used to define the scope of code blocks in a way that is easy to understand.    \n",
    "    \n"
   ]
  },
  {
   "cell_type": "code",
   "execution_count": null,
   "id": "84223cc7-dbc1-4165-b4e7-68708620376f",
   "metadata": {},
   "outputs": [],
   "source": []
  }
 ],
 "metadata": {
  "kernelspec": {
   "display_name": "Python 3 (ipykernel)",
   "language": "python",
   "name": "python3"
  },
  "language_info": {
   "codemirror_mode": {
    "name": "ipython",
    "version": 3
   },
   "file_extension": ".py",
   "mimetype": "text/x-python",
   "name": "python",
   "nbconvert_exporter": "python",
   "pygments_lexer": "ipython3",
   "version": "3.10.8"
  }
 },
 "nbformat": 4,
 "nbformat_minor": 5
}
